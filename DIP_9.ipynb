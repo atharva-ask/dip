{
  "cells": [
    {
      "cell_type": "code",
      "execution_count": null,
      "metadata": {
        "id": "9NXYu90Py2Bm"
      },
      "outputs": [],
      "source": [
        "import cv2 as cv2\n",
        "import numpy as np\n",
        "from google.colab.patches import cv2_imshow\n",
        "import matplotlib.pylab as plt\n",
        "from  PIL import Image"
      ]
    },
    {
      "cell_type": "code",
      "execution_count": null,
      "metadata": {
        "id": "hANeHCa-vY5e"
      },
      "outputs": [],
      "source": [
        "\n",
        "import heapq\n",
        "\n",
        "class Node:\n",
        "    def __init__(self, freq, symbol, left=None, right=None):\n",
        "        self.freq = freq\n",
        "        self.symbol = symbol\n",
        "        self.left = left\n",
        "        self.right = right\n",
        "        self.huff = ''\n",
        "\n",
        "    def __lt__(self, other):\n",
        "        return self.freq < other.freq\n",
        "\n",
        "def print_nodes(node, val=''):\n",
        "    newVal = val + str(node.huff)\n",
        "\n",
        "    if node.left:\n",
        "        print_nodes(node.left, newVal)\n",
        "    if node.right:\n",
        "        print_nodes(node.right, newVal)\n",
        "\n",
        "    if not node.left and not node.right:\n",
        "        print(f\"{node.symbol} = {newVal}\")\n",
        "\n",
        "chars = ['a', 'b', 'c', 'd', 'e', 'f']\n",
        "freq = [5, 9, 12, 13, 16, 45]\n",
        "total_freq = sum(freq)  # Calculate total frequency\n",
        "nodes = []\n",
        "\n",
        "for x in range(len(chars)):\n",
        "    heapq.heappush(nodes, Node(freq[x], chars[x]))\n",
        "\n",
        "while len(nodes) > 1:\n",
        "    left = heapq.heappop(nodes)\n",
        "    right = heapq.heappop(nodes)\n",
        "\n",
        "    left.huff = '0'\n",
        "    right.huff = '1'\n",
        "\n",
        "    new_node = Node(left.freq + right.freq, left.symbol + right.symbol, left, right)\n",
        "    heapq.heappush(nodes, new_node)\n",
        "\n",
        "huffman_tree_root = nodes[0]\n",
        "print_nodes(huffman_tree_root)\n",
        "\n",
        "# Calculate compression ratio\n",
        "original_bits = total_freq * 8  # Assuming each character is 8 bits\n",
        "compressed_bits = len(chars) * len(freq) + len(huffman_tree_root.huff) * total_freq\n",
        "compression_ratio = original_bits / compressed_bits\n",
        "print(f\"Compression Ratio: {compression_ratio:.2f}\")\n"
      ]
    },
    {
      "cell_type": "code",
      "execution_count": null,
      "metadata": {},
      "outputs": [],
      "source": []
    },
    {
      "cell_type": "markdown",
      "metadata": {},
      "source": [
        "METHOD 1 For Huffman"
      ]
    }
  ],
  "metadata": {
    "colab": {
      "provenance": []
    },
    "kernelspec": {
      "display_name": "Python 3",
      "name": "python3"
    },
    "language_info": {
      "name": "python"
    }
  },
  "nbformat": 4,
  "nbformat_minor": 0
}
